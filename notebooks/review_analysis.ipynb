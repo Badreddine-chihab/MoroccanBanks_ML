{
 "cells": [
  {
   "cell_type": "code",
   "id": "initial_id",
   "metadata": {
    "collapsed": true,
    "ExecuteTime": {
     "end_time": "2025-03-28T01:08:39.798120Z",
     "start_time": "2025-03-28T01:08:39.778873Z"
    }
   },
   "source": [
    "import pandas as pd\n",
    "import matplotlib.pyplot as plt\n",
    "import seaborn as sns\n",
    "%matplotlib inline"
   ],
   "outputs": [],
   "execution_count": 10
  },
  {
   "metadata": {
    "ExecuteTime": {
     "end_time": "2025-03-28T01:08:40.292983Z",
     "start_time": "2025-03-28T01:08:40.283742Z"
    }
   },
   "cell_type": "code",
   "source": "",
   "id": "bf3303921a920f4",
   "outputs": [],
   "execution_count": null
  },
  {
   "metadata": {
    "ExecuteTime": {
     "end_time": "2025-03-28T01:08:41.448688Z",
     "start_time": "2025-03-28T01:08:41.408615Z"
    }
   },
   "cell_type": "code",
   "source": "data = pd.read_csv('../data/cleaned/review_dataset.csv')",
   "id": "75a11219430f949f",
   "outputs": [],
   "execution_count": 11
  },
  {
   "metadata": {
    "ExecuteTime": {
     "end_time": "2025-03-28T01:08:43.608107Z",
     "start_time": "2025-03-28T01:08:42.313777Z"
    }
   },
   "cell_type": "code",
   "source": [
    "import pandas as pd\n",
    "from textblob import TextBlob\n",
    "from textblob_fr import PatternTagger, PatternAnalyzer\n",
    "\n",
    "# Load data\n",
    "df = pd.read_csv('../data/cleaned/review_dataset.csv')\n",
    "\n",
    "# Basic stats\n",
    "print(f\"Total reviews: {len(df)}\")\n",
    "print(\"\\nReviews by bank:\")\n",
    "print(df['Business Name'].value_counts())\n",
    "\n",
    "# Sentiment analysis function for French\n",
    "def analyze_sentiment(text):\n",
    "    analysis = TextBlob(text, pos_tagger=PatternTagger(), analyzer=PatternAnalyzer())\n",
    "    return analysis.sentiment[0]\n",
    "\n",
    "# Apply sentiment analysis\n",
    "df['sentiment'] = df['Review Text'].apply(analyze_sentiment)\n",
    "\n",
    "# Analyze by bank\n",
    "print(\"\\nAverage sentiment by bank:\")\n",
    "print(df.groupby('Business Name')['sentiment'].mean().sort_values())\n",
    "\n",
    "# Extract year from timestamp for time analysis\n",
    "df['year'] = pd.to_datetime(df['TrueTimestamp']).dt.year\n",
    "print(\"\\nReviews by year:\")\n",
    "print(df['year'].value_counts().sort_index())"
   ],
   "id": "c819231394912134",
   "outputs": [
    {
     "name": "stdout",
     "output_type": "stream",
     "text": [
      "Total reviews: 3475\n",
      "\n",
      "Reviews by bank:\n",
      "Business Name\n",
      "Attijariwafa Bank    1260\n",
      "Banque Populaire      665\n",
      "Other                 529\n",
      "Bank of Africa        384\n",
      "Société Générale      175\n",
      "CIH                   166\n",
      "Al Barid Bank         137\n",
      "Crédit Agricole        53\n",
      "BMCE Bank              51\n",
      "Bank Al Yousr          27\n",
      "Bank Assafa            18\n",
      "Bank Al-Maghrib         9\n",
      "Assafa bank             1\n",
      "Name: count, dtype: int64\n",
      "\n",
      "Average sentiment by bank:\n",
      "Business Name\n",
      "CIH                 -0.075675\n",
      "Bank Assafa         -0.052030\n",
      "Al Barid Bank       -0.046005\n",
      "Assafa bank         -0.031250\n",
      "Attijariwafa Bank   -0.028159\n",
      "Bank of Africa      -0.024694\n",
      "Other                0.003074\n",
      "Société Générale     0.021659\n",
      "BMCE Bank            0.048233\n",
      "Bank Al Yousr        0.057945\n",
      "Crédit Agricole      0.066263\n",
      "Banque Populaire     0.095400\n",
      "Bank Al-Maghrib      0.115833\n",
      "Name: sentiment, dtype: float64\n",
      "\n",
      "Reviews by year:\n",
      "year\n",
      "2013      2\n",
      "2014      8\n",
      "2015      7\n",
      "2016     17\n",
      "2017     85\n",
      "2018    189\n",
      "2019    194\n",
      "2020    285\n",
      "2021    252\n",
      "2022    500\n",
      "2023    539\n",
      "2024    513\n",
      "2025    884\n",
      "Name: count, dtype: int64\n"
     ]
    }
   ],
   "execution_count": 12
  },
  {
   "metadata": {},
   "cell_type": "markdown",
   "source": "using these results, we can ommit data outside the range of 2016-2025 since there are few reviews",
   "id": "2ec32127085fa763"
  },
  {
   "metadata": {
    "ExecuteTime": {
     "end_time": "2025-03-28T01:08:46.154440Z",
     "start_time": "2025-03-28T01:08:46.092584Z"
    }
   },
   "cell_type": "code",
   "source": [
    "original_data = pd.read_csv('../data/cleaned/updated_dataset.csv')\n",
    "original_data[\"TrueTimestamp\"] = pd.to_datetime(original_data[\"TrueTimestamp\"])\n",
    "original_data = original_data[(original_data['TrueTimestamp'] >= '2017-01-01') & (original_data['TrueTimestamp'] <= '2025-12-31')]\n"
   ],
   "id": "b21cbc99d46ca72f",
   "outputs": [],
   "execution_count": 13
  },
  {
   "metadata": {
    "ExecuteTime": {
     "end_time": "2025-03-28T01:08:48.422267Z",
     "start_time": "2025-03-28T01:08:47.175233Z"
    }
   },
   "cell_type": "code",
   "source": [
    "# Apply sentiment analysis\n",
    "df['sentiment'] = df['Review Text'].apply(analyze_sentiment)\n",
    "\n",
    "# Analyze by bank\n",
    "print(\"\\nAverage sentiment by bank:\")\n",
    "print(df.groupby('Business Name')['sentiment'].mean().sort_values())\n",
    "\n",
    "# Extract year from timestamp for time analysis\n",
    "df['year'] = pd.to_datetime(df['TrueTimestamp']).dt.year\n",
    "print(\"\\nReviews by year:\")\n",
    "print(df['year'].value_counts().sort_index())"
   ],
   "id": "af2c2f8224af7e27",
   "outputs": [
    {
     "name": "stdout",
     "output_type": "stream",
     "text": [
      "\n",
      "Average sentiment by bank:\n",
      "Business Name\n",
      "CIH                 -0.075675\n",
      "Bank Assafa         -0.052030\n",
      "Al Barid Bank       -0.046005\n",
      "Assafa bank         -0.031250\n",
      "Attijariwafa Bank   -0.028159\n",
      "Bank of Africa      -0.024694\n",
      "Other                0.003074\n",
      "Société Générale     0.021659\n",
      "BMCE Bank            0.048233\n",
      "Bank Al Yousr        0.057945\n",
      "Crédit Agricole      0.066263\n",
      "Banque Populaire     0.095400\n",
      "Bank Al-Maghrib      0.115833\n",
      "Name: sentiment, dtype: float64\n",
      "\n",
      "Reviews by year:\n",
      "year\n",
      "2013      2\n",
      "2014      8\n",
      "2015      7\n",
      "2016     17\n",
      "2017     85\n",
      "2018    189\n",
      "2019    194\n",
      "2020    285\n",
      "2021    252\n",
      "2022    500\n",
      "2023    539\n",
      "2024    513\n",
      "2025    884\n",
      "Name: count, dtype: int64\n"
     ]
    }
   ],
   "execution_count": 14
  },
  {
   "metadata": {},
   "cell_type": "code",
   "outputs": [],
   "execution_count": null,
   "source": "",
   "id": "9b9202ade3dce6d4"
  }
 ],
 "metadata": {
  "kernelspec": {
   "display_name": "Python 3",
   "language": "python",
   "name": "python3"
  },
  "language_info": {
   "codemirror_mode": {
    "name": "ipython",
    "version": 2
   },
   "file_extension": ".py",
   "mimetype": "text/x-python",
   "name": "python",
   "nbconvert_exporter": "python",
   "pygments_lexer": "ipython2",
   "version": "2.7.6"
  }
 },
 "nbformat": 4,
 "nbformat_minor": 5
}
