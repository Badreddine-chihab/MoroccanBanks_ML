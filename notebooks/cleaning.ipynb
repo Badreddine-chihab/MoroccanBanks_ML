{
 "cells": [
  {
   "cell_type": "code",
   "id": "initial_id",
   "metadata": {
    "collapsed": true,
    "ExecuteTime": {
     "end_time": "2025-03-26T16:22:40.393029Z",
     "start_time": "2025-03-26T16:22:40.386192Z"
    }
   },
   "source": [
    "import pandas as pd\n",
    "import numpy as np\n",
    "import matplotlib.pyplot as plt\n",
    "import seaborn as sns"
   ],
   "outputs": [],
   "execution_count": 39
  },
  {
   "metadata": {
    "ExecuteTime": {
     "end_time": "2025-03-26T16:22:41.242872Z",
     "start_time": "2025-03-26T16:22:41.156735Z"
    }
   },
   "cell_type": "code",
   "source": "rawdata= pd.read_csv('../data/raw/original_data.csv')",
   "id": "a89c2c4d8325cad",
   "outputs": [],
   "execution_count": 40
  },
  {
   "metadata": {
    "ExecuteTime": {
     "end_time": "2025-03-26T16:22:41.889261Z",
     "start_time": "2025-03-26T16:22:41.872843Z"
    }
   },
   "cell_type": "code",
   "source": "rawdata.head()",
   "id": "a74147ce19336787",
   "outputs": [
    {
     "data": {
      "text/plain": [
       "   Unnamed: 0   City       Business Name              Address Phone Number  \\\n",
       "0           0  adrej  BMCE BANK El Wafaa  225C+WRW, Fès 30050          NaN   \n",
       "1           1  adrej  BMCE BANK El Wafaa  225C+WRW, Fès 30050          NaN   \n",
       "2           2  adrej  BMCE BANK El Wafaa  225C+WRW, Fès 30050          NaN   \n",
       "3           3  adrej  BMCE BANK El Wafaa  225C+WRW, Fès 30050          NaN   \n",
       "4           4  adrej  BMCE BANK El Wafaa  225C+WRW, Fès 30050          NaN   \n",
       "\n",
       "                                             Website Google Map ID  \\\n",
       "0  https://business.google.com/create?fp=34034433...           NaN   \n",
       "1  https://business.google.com/create?fp=34034433...           NaN   \n",
       "2  https://business.google.com/create?fp=34034433...           NaN   \n",
       "3  https://business.google.com/create?fp=34034433...           NaN   \n",
       "4  https://business.google.com/create?fp=34034433...           NaN   \n",
       "\n",
       "                                         Review Text      Timestamp  Stars  \\\n",
       "0  GAb est sale\\r\\nPrès d'entrée d'immeuble et bo...   il y a 2 ans      1   \n",
       "1       Chef d'agence (une femme) est une hypocrite.   il y a 9 ans      2   \n",
       "2                                     Bonne services   il y a 4 ans      4   \n",
       "3  le pire service que j'ai jamais vu dans une ba...   il y a 2 ans      1   \n",
       "4                               No review text found  il y a 8 mois      5   \n",
       "\n",
       "                TrueTimestamp  \n",
       "0  2023-03-14 21:22:17.359491  \n",
       "1  2016-03-15 21:22:17.359491  \n",
       "2  2021-03-14 21:22:17.359491  \n",
       "3  2023-03-14 21:22:17.359491  \n",
       "4  2024-07-16 21:22:17.359491  "
      ],
      "text/html": [
       "<div>\n",
       "<style scoped>\n",
       "    .dataframe tbody tr th:only-of-type {\n",
       "        vertical-align: middle;\n",
       "    }\n",
       "\n",
       "    .dataframe tbody tr th {\n",
       "        vertical-align: top;\n",
       "    }\n",
       "\n",
       "    .dataframe thead th {\n",
       "        text-align: right;\n",
       "    }\n",
       "</style>\n",
       "<table border=\"1\" class=\"dataframe\">\n",
       "  <thead>\n",
       "    <tr style=\"text-align: right;\">\n",
       "      <th></th>\n",
       "      <th>Unnamed: 0</th>\n",
       "      <th>City</th>\n",
       "      <th>Business Name</th>\n",
       "      <th>Address</th>\n",
       "      <th>Phone Number</th>\n",
       "      <th>Website</th>\n",
       "      <th>Google Map ID</th>\n",
       "      <th>Review Text</th>\n",
       "      <th>Timestamp</th>\n",
       "      <th>Stars</th>\n",
       "      <th>TrueTimestamp</th>\n",
       "    </tr>\n",
       "  </thead>\n",
       "  <tbody>\n",
       "    <tr>\n",
       "      <th>0</th>\n",
       "      <td>0</td>\n",
       "      <td>adrej</td>\n",
       "      <td>BMCE BANK El Wafaa</td>\n",
       "      <td>225C+WRW, Fès 30050</td>\n",
       "      <td>NaN</td>\n",
       "      <td>https://business.google.com/create?fp=34034433...</td>\n",
       "      <td>NaN</td>\n",
       "      <td>GAb est sale\\r\\nPrès d'entrée d'immeuble et bo...</td>\n",
       "      <td>il y a 2 ans</td>\n",
       "      <td>1</td>\n",
       "      <td>2023-03-14 21:22:17.359491</td>\n",
       "    </tr>\n",
       "    <tr>\n",
       "      <th>1</th>\n",
       "      <td>1</td>\n",
       "      <td>adrej</td>\n",
       "      <td>BMCE BANK El Wafaa</td>\n",
       "      <td>225C+WRW, Fès 30050</td>\n",
       "      <td>NaN</td>\n",
       "      <td>https://business.google.com/create?fp=34034433...</td>\n",
       "      <td>NaN</td>\n",
       "      <td>Chef d'agence (une femme) est une hypocrite.</td>\n",
       "      <td>il y a 9 ans</td>\n",
       "      <td>2</td>\n",
       "      <td>2016-03-15 21:22:17.359491</td>\n",
       "    </tr>\n",
       "    <tr>\n",
       "      <th>2</th>\n",
       "      <td>2</td>\n",
       "      <td>adrej</td>\n",
       "      <td>BMCE BANK El Wafaa</td>\n",
       "      <td>225C+WRW, Fès 30050</td>\n",
       "      <td>NaN</td>\n",
       "      <td>https://business.google.com/create?fp=34034433...</td>\n",
       "      <td>NaN</td>\n",
       "      <td>Bonne services</td>\n",
       "      <td>il y a 4 ans</td>\n",
       "      <td>4</td>\n",
       "      <td>2021-03-14 21:22:17.359491</td>\n",
       "    </tr>\n",
       "    <tr>\n",
       "      <th>3</th>\n",
       "      <td>3</td>\n",
       "      <td>adrej</td>\n",
       "      <td>BMCE BANK El Wafaa</td>\n",
       "      <td>225C+WRW, Fès 30050</td>\n",
       "      <td>NaN</td>\n",
       "      <td>https://business.google.com/create?fp=34034433...</td>\n",
       "      <td>NaN</td>\n",
       "      <td>le pire service que j'ai jamais vu dans une ba...</td>\n",
       "      <td>il y a 2 ans</td>\n",
       "      <td>1</td>\n",
       "      <td>2023-03-14 21:22:17.359491</td>\n",
       "    </tr>\n",
       "    <tr>\n",
       "      <th>4</th>\n",
       "      <td>4</td>\n",
       "      <td>adrej</td>\n",
       "      <td>BMCE BANK El Wafaa</td>\n",
       "      <td>225C+WRW, Fès 30050</td>\n",
       "      <td>NaN</td>\n",
       "      <td>https://business.google.com/create?fp=34034433...</td>\n",
       "      <td>NaN</td>\n",
       "      <td>No review text found</td>\n",
       "      <td>il y a 8 mois</td>\n",
       "      <td>5</td>\n",
       "      <td>2024-07-16 21:22:17.359491</td>\n",
       "    </tr>\n",
       "  </tbody>\n",
       "</table>\n",
       "</div>"
      ]
     },
     "execution_count": 41,
     "metadata": {},
     "output_type": "execute_result"
    }
   ],
   "execution_count": 41
  },
  {
   "metadata": {
    "ExecuteTime": {
     "end_time": "2025-03-26T16:22:43.440193Z",
     "start_time": "2025-03-26T16:22:43.430133Z"
    }
   },
   "cell_type": "code",
   "source": [
    "#remove column\n",
    "rawdata= rawdata.drop(columns=['Address','Timestamp',\"Phone Number\",\"Unnamed: 0\",'Website','Google Map ID'])"
   ],
   "id": "7c6dd3e0d4a73d60",
   "outputs": [],
   "execution_count": 42
  },
  {
   "metadata": {},
   "cell_type": "markdown",
   "source": "remove rows where there is nor review text",
   "id": "4c19419b6e878d46"
  },
  {
   "metadata": {
    "ExecuteTime": {
     "end_time": "2025-03-26T16:24:09.385560Z",
     "start_time": "2025-03-26T16:24:09.375041Z"
    }
   },
   "cell_type": "code",
   "source": [
    "rawdata = rawdata[rawdata[\"Review Text\"] != \"No review text found\"]\n",
    "rawdata.head()"
   ],
   "id": "6fb97e0b0274e5b1",
   "outputs": [
    {
     "data": {
      "text/plain": [
       "      City      Business Name  \\\n",
       "46  agadir  Attijariwafa Bank   \n",
       "47  agadir  Attijariwafa Bank   \n",
       "48  agadir  Attijariwafa Bank   \n",
       "50  agadir  Attijariwafa Bank   \n",
       "51  agadir  Attijariwafa Bank   \n",
       "\n",
       "                                          Review Text  Stars  \\\n",
       "46  Beaucoup des clients qui attends outside alors...      2   \n",
       "47                                        Bon service      4   \n",
       "48                              Service👍🏽👍🏽👍🏽👍🏽👍🏽👍🏽 …      5   \n",
       "50  Le service est nul, j'ai pas de compte bancair...      1   \n",
       "51  Excellent. Très bonne banque !\\r\\nRemarque les...      5   \n",
       "\n",
       "                 TrueTimestamp  \n",
       "46  2022-03-14 21:22:17.360486  \n",
       "47  2023-03-14 21:22:17.360486  \n",
       "48  2024-12-13 21:22:17.360486  \n",
       "50  2024-10-14 21:22:17.360486  \n",
       "51  2024-09-14 21:22:17.360486  "
      ],
      "text/html": [
       "<div>\n",
       "<style scoped>\n",
       "    .dataframe tbody tr th:only-of-type {\n",
       "        vertical-align: middle;\n",
       "    }\n",
       "\n",
       "    .dataframe tbody tr th {\n",
       "        vertical-align: top;\n",
       "    }\n",
       "\n",
       "    .dataframe thead th {\n",
       "        text-align: right;\n",
       "    }\n",
       "</style>\n",
       "<table border=\"1\" class=\"dataframe\">\n",
       "  <thead>\n",
       "    <tr style=\"text-align: right;\">\n",
       "      <th></th>\n",
       "      <th>City</th>\n",
       "      <th>Business Name</th>\n",
       "      <th>Review Text</th>\n",
       "      <th>Stars</th>\n",
       "      <th>TrueTimestamp</th>\n",
       "    </tr>\n",
       "  </thead>\n",
       "  <tbody>\n",
       "    <tr>\n",
       "      <th>46</th>\n",
       "      <td>agadir</td>\n",
       "      <td>Attijariwafa Bank</td>\n",
       "      <td>Beaucoup des clients qui attends outside alors...</td>\n",
       "      <td>2</td>\n",
       "      <td>2022-03-14 21:22:17.360486</td>\n",
       "    </tr>\n",
       "    <tr>\n",
       "      <th>47</th>\n",
       "      <td>agadir</td>\n",
       "      <td>Attijariwafa Bank</td>\n",
       "      <td>Bon service</td>\n",
       "      <td>4</td>\n",
       "      <td>2023-03-14 21:22:17.360486</td>\n",
       "    </tr>\n",
       "    <tr>\n",
       "      <th>48</th>\n",
       "      <td>agadir</td>\n",
       "      <td>Attijariwafa Bank</td>\n",
       "      <td>Service👍🏽👍🏽👍🏽👍🏽👍🏽👍🏽 …</td>\n",
       "      <td>5</td>\n",
       "      <td>2024-12-13 21:22:17.360486</td>\n",
       "    </tr>\n",
       "    <tr>\n",
       "      <th>50</th>\n",
       "      <td>agadir</td>\n",
       "      <td>Attijariwafa Bank</td>\n",
       "      <td>Le service est nul, j'ai pas de compte bancair...</td>\n",
       "      <td>1</td>\n",
       "      <td>2024-10-14 21:22:17.360486</td>\n",
       "    </tr>\n",
       "    <tr>\n",
       "      <th>51</th>\n",
       "      <td>agadir</td>\n",
       "      <td>Attijariwafa Bank</td>\n",
       "      <td>Excellent. Très bonne banque !\\r\\nRemarque les...</td>\n",
       "      <td>5</td>\n",
       "      <td>2024-09-14 21:22:17.360486</td>\n",
       "    </tr>\n",
       "  </tbody>\n",
       "</table>\n",
       "</div>"
      ]
     },
     "execution_count": 52,
     "metadata": {},
     "output_type": "execute_result"
    }
   ],
   "execution_count": 52
  },
  {
   "metadata": {
    "ExecuteTime": {
     "end_time": "2025-03-26T16:24:10.216193Z",
     "start_time": "2025-03-26T16:24:10.199492Z"
    }
   },
   "cell_type": "code",
   "source": "list(rawdata['Business Name'].unique())",
   "id": "406a91021287cf8c",
   "outputs": [
    {
     "data": {
      "text/plain": [
       "['Attijariwafa Bank',\n",
       " 'Société Générale',\n",
       " 'Bank of Africa',\n",
       " 'Banque Populaire',\n",
       " 'Other',\n",
       " 'Al Barid Bank',\n",
       " 'Crédit Agricole',\n",
       " 'BMCE Bank',\n",
       " 'Bank Al-Maghrib',\n",
       " 'Bank Al Yousr',\n",
       " 'Bank Assafa',\n",
       " 'CIH',\n",
       " 'Assafa bank']"
      ]
     },
     "execution_count": 53,
     "metadata": {},
     "output_type": "execute_result"
    }
   ],
   "execution_count": 53
  },
  {
   "metadata": {
    "ExecuteTime": {
     "end_time": "2025-03-26T16:24:11.292489Z",
     "start_time": "2025-03-26T16:24:10.895686Z"
    }
   },
   "cell_type": "code",
   "source": [
    "from rapidfuzz import process, fuzz\n",
    "\n",
    "# Define known bank names\n",
    "bank_names = {\n",
    "    \"CIH\": [\"CIH\",'Cih','Banque CIH','CIH','CIH bank','CIH Bank - Agence Mohammed V','CIH Bank- Agence Dakhla',\n",
    "            'CIH Bank - Agence Hay Salam','CIH Bank - Agence Bensergao','CIH BANK','CIH Banque','CIH Bank - Agence'],\n",
    "    \"Attijariwafa Bank\": [\"Attijariwafa Bank\",\"Attijari\", \"Attijari Wafabank\", \"attijari fes\", \"attijari bank\",\n",
    "                          'Attijariwafa Bank - El Houda','Attijariwafa Bank - Agence Essalam Expansion',\n",
    "                          'Attijariwafa Bank - Agence Agadir Cadi Ayad','Attijariwafa Bank - Agence Agadir Hay Dakhla',\n",
    "                          'Attijariwafa Bank 11 Janvier','Attijari Wafa Banque','Attijariwafa bank','Attijari wafa bank'],\n",
    "    \"BMCE Bank\": [\"BMCE BANK El Wafaa\", \"BMCE Bank\", \"bmce fes\", \"bmcebank\"],\n",
    "    \"Banque Populaire\": [\"Banque Populaire\",\"BANQUE POPULAIRE - Centre d'Affaire Fes Taza\",'banque populaire',\"Banque Populaire\",'Banque Chaabi',\n",
    "                          \"B. Populaire\", \"populaire fes\",\"Centre d'estivage Banque Populaire\",'Banque Populaire Siège Centre Sud',\n",
    "                          'Banque Populaire - Agence Bouabid','Banque Populaire - Agence Riad Salam','Banque Populaire البنك الشعبي','Banque Populaire.','Groupe Scolaire de La Fondation Banque Populaire_Tanger',\n",
    "                          'La banque populaire','banque populaire','Banque populaire','Agence Banque Populaire',\n",
    "                          'Banque Poulaire','Banque populaire Admime','Banque Populaire -Agence Carrefour'],\n",
    "    \"Al Barid Bank\": [\"Al Barid Bank\",'Poste Maroc - Al Barid Bank','Poste Maroc - Al Barid Bank - Barid Cash','Barid Bank',\n",
    "                      'BARID BANK','Al Barid Bank Fès Narjis','Al Barid Bank'],\n",
    "    \"Bank of Africa\":[\"Bank of Africa\",'Agence Bank of Africa','Bank of Africa - Agence Hassan 1er','Bank of Africa Talborjt',\n",
    "                      'Bank of Africa - Batoir','Bank of Africa - Agence Bensergao','Bank of Africa (BMCE)',\n",
    "                      'BMCE','bmce bank','Banque BMCE', 'Bank of Africa Agdal'],\n",
    "    'Bank Assafa': ['Bank Assafa'],\n",
    "    \"BMCI\":['BMCI Bank'\"BMCI\"],\n",
    "    \"Arab Bank\": [\"Arab Bank\"],\n",
    "    \"Bank Al-Maghrib\": [\"Bank Al-Maghrib\"],\n",
    "    \"Bank Al Yousr\": [\"Bank Al Yousr\"],\n",
    "    'Assafa bank':['Assafa bank'],\n",
    "    \"Crédit Agricole\": ['Crédit Agricole Du Maroc','crédit agricole','CREDIT AGRICOLE'],\n",
    "    \"Société Générale\": ['Société Générale Bank','Espace Libre Service - Société Générale Maroc','Société Générale GAB','Société Générale Temara Massira']\n",
    "}\n",
    "\n",
    "# Function to match business names\n",
    "def match_bank(name):\n",
    "    name = name.lower().strip()  # Normalize input\n",
    "    best_match = \"Other\"\n",
    "    highest_score = 0\n",
    "\n",
    "    for bank, variations in bank_names.items():\n",
    "        if not variations:  # Skip empty lists\n",
    "            continue\n",
    "\n",
    "        match, score, _ = process.extractOne(name, variations, scorer=fuzz.partial_ratio)\n",
    "\n",
    "        if match and score > highest_score:  # Ensure match is valid\n",
    "            best_match = bank\n",
    "            highest_score = score\n",
    "\n",
    "    return best_match if highest_score >= 80 else \"Other\"\n",
    "\n",
    "# Apply function to the dataset\n",
    "rawdata[\"Business Name\"] = rawdata[\"Business Name\"].apply(match_bank)\n",
    "\n",
    "\n"
   ],
   "id": "fc50ecc4c1c20638",
   "outputs": [],
   "execution_count": 54
  },
  {
   "metadata": {
    "ExecuteTime": {
     "end_time": "2025-03-26T16:24:11.439605Z",
     "start_time": "2025-03-26T16:24:11.426153Z"
    }
   },
   "cell_type": "code",
   "source": [
    "#Making sure every rating is within the range 1-5\n",
    "rawdata[\"Stars\"].describe()"
   ],
   "id": "c713145dc617ca4a",
   "outputs": [
    {
     "data": {
      "text/plain": [
       "count    3475.000000\n",
       "mean        2.265612\n",
       "std         1.686398\n",
       "min         1.000000\n",
       "25%         1.000000\n",
       "50%         1.000000\n",
       "75%         4.000000\n",
       "max         5.000000\n",
       "Name: Stars, dtype: float64"
      ]
     },
     "execution_count": 55,
     "metadata": {},
     "output_type": "execute_result"
    }
   ],
   "execution_count": 55
  },
  {
   "metadata": {},
   "cell_type": "markdown",
   "source": "Let's work with only few big cities",
   "id": "8303ad68db594c90"
  },
  {
   "metadata": {
    "ExecuteTime": {
     "end_time": "2025-03-26T16:24:12.794523Z",
     "start_time": "2025-03-26T16:24:12.777849Z"
    }
   },
   "cell_type": "code",
   "source": [
    "# List of valid Moroccan cities\n",
    "valid_cities = [\n",
    "    \"agadir\",\"ifrane\",\"dakhla\",\"fes\",\"errachidia\",\"casablanca\",\"berkane\",\"azilal\",\"harhoura\",\"el+jadida\",\n",
    "]\n",
    "\n",
    "rawdata[\"City\"] = rawdata[\"City\"].str.lower().str.strip()\n",
    "\n",
    "# Remove rows where the city is not in the valid list\n",
    "rawdata = rawdata[rawdata[\"City\"].isin(valid_cities)]\n",
    "list(rawdata[\"City\"].unique())\n"
   ],
   "id": "fd5238225c049b49",
   "outputs": [
    {
     "data": {
      "text/plain": [
       "['agadir',\n",
       " 'azilal',\n",
       " 'berkane',\n",
       " 'casablanca',\n",
       " 'dakhla',\n",
       " 'el+jadida',\n",
       " 'errachidia',\n",
       " 'fes',\n",
       " 'harhoura',\n",
       " 'ifrane']"
      ]
     },
     "execution_count": 56,
     "metadata": {},
     "output_type": "execute_result"
    }
   ],
   "execution_count": 56
  },
  {
   "metadata": {
    "ExecuteTime": {
     "end_time": "2025-03-26T16:24:13.397885Z",
     "start_time": "2025-03-26T16:24:13.383447Z"
    }
   },
   "cell_type": "code",
   "source": "rawdata.describe()",
   "id": "d86db903ac11a30a",
   "outputs": [
    {
     "data": {
      "text/plain": [
       "             Stars\n",
       "count  3475.000000\n",
       "mean      2.265612\n",
       "std       1.686398\n",
       "min       1.000000\n",
       "25%       1.000000\n",
       "50%       1.000000\n",
       "75%       4.000000\n",
       "max       5.000000"
      ],
      "text/html": [
       "<div>\n",
       "<style scoped>\n",
       "    .dataframe tbody tr th:only-of-type {\n",
       "        vertical-align: middle;\n",
       "    }\n",
       "\n",
       "    .dataframe tbody tr th {\n",
       "        vertical-align: top;\n",
       "    }\n",
       "\n",
       "    .dataframe thead th {\n",
       "        text-align: right;\n",
       "    }\n",
       "</style>\n",
       "<table border=\"1\" class=\"dataframe\">\n",
       "  <thead>\n",
       "    <tr style=\"text-align: right;\">\n",
       "      <th></th>\n",
       "      <th>Stars</th>\n",
       "    </tr>\n",
       "  </thead>\n",
       "  <tbody>\n",
       "    <tr>\n",
       "      <th>count</th>\n",
       "      <td>3475.000000</td>\n",
       "    </tr>\n",
       "    <tr>\n",
       "      <th>mean</th>\n",
       "      <td>2.265612</td>\n",
       "    </tr>\n",
       "    <tr>\n",
       "      <th>std</th>\n",
       "      <td>1.686398</td>\n",
       "    </tr>\n",
       "    <tr>\n",
       "      <th>min</th>\n",
       "      <td>1.000000</td>\n",
       "    </tr>\n",
       "    <tr>\n",
       "      <th>25%</th>\n",
       "      <td>1.000000</td>\n",
       "    </tr>\n",
       "    <tr>\n",
       "      <th>50%</th>\n",
       "      <td>1.000000</td>\n",
       "    </tr>\n",
       "    <tr>\n",
       "      <th>75%</th>\n",
       "      <td>4.000000</td>\n",
       "    </tr>\n",
       "    <tr>\n",
       "      <th>max</th>\n",
       "      <td>5.000000</td>\n",
       "    </tr>\n",
       "  </tbody>\n",
       "</table>\n",
       "</div>"
      ]
     },
     "execution_count": 57,
     "metadata": {},
     "output_type": "execute_result"
    }
   ],
   "execution_count": 57
  },
  {
   "metadata": {
    "ExecuteTime": {
     "end_time": "2025-03-26T16:24:14.008554Z",
     "start_time": "2025-03-26T16:24:13.989312Z"
    }
   },
   "cell_type": "code",
   "source": "rawdata.info()",
   "id": "dccf695e7178d692",
   "outputs": [
    {
     "name": "stdout",
     "output_type": "stream",
     "text": [
      "<class 'pandas.core.frame.DataFrame'>\n",
      "Index: 3475 entries, 46 to 13252\n",
      "Data columns (total 5 columns):\n",
      " #   Column         Non-Null Count  Dtype \n",
      "---  ------         --------------  ----- \n",
      " 0   City           3475 non-null   object\n",
      " 1   Business Name  3475 non-null   object\n",
      " 2   Review Text    3475 non-null   object\n",
      " 3   Stars          3475 non-null   int64 \n",
      " 4   TrueTimestamp  3475 non-null   object\n",
      "dtypes: int64(1), object(4)\n",
      "memory usage: 162.9+ KB\n"
     ]
    }
   ],
   "execution_count": 58
  },
  {
   "metadata": {
    "ExecuteTime": {
     "end_time": "2025-03-26T16:24:14.801891Z",
     "start_time": "2025-03-26T16:24:14.786806Z"
    }
   },
   "cell_type": "code",
   "source": "rawdata.head()",
   "id": "419471c160aacaf7",
   "outputs": [
    {
     "data": {
      "text/plain": [
       "      City      Business Name  \\\n",
       "46  agadir  Attijariwafa Bank   \n",
       "47  agadir  Attijariwafa Bank   \n",
       "48  agadir  Attijariwafa Bank   \n",
       "50  agadir  Attijariwafa Bank   \n",
       "51  agadir  Attijariwafa Bank   \n",
       "\n",
       "                                          Review Text  Stars  \\\n",
       "46  Beaucoup des clients qui attends outside alors...      2   \n",
       "47                                        Bon service      4   \n",
       "48                              Service👍🏽👍🏽👍🏽👍🏽👍🏽👍🏽 …      5   \n",
       "50  Le service est nul, j'ai pas de compte bancair...      1   \n",
       "51  Excellent. Très bonne banque !\\r\\nRemarque les...      5   \n",
       "\n",
       "                 TrueTimestamp  \n",
       "46  2022-03-14 21:22:17.360486  \n",
       "47  2023-03-14 21:22:17.360486  \n",
       "48  2024-12-13 21:22:17.360486  \n",
       "50  2024-10-14 21:22:17.360486  \n",
       "51  2024-09-14 21:22:17.360486  "
      ],
      "text/html": [
       "<div>\n",
       "<style scoped>\n",
       "    .dataframe tbody tr th:only-of-type {\n",
       "        vertical-align: middle;\n",
       "    }\n",
       "\n",
       "    .dataframe tbody tr th {\n",
       "        vertical-align: top;\n",
       "    }\n",
       "\n",
       "    .dataframe thead th {\n",
       "        text-align: right;\n",
       "    }\n",
       "</style>\n",
       "<table border=\"1\" class=\"dataframe\">\n",
       "  <thead>\n",
       "    <tr style=\"text-align: right;\">\n",
       "      <th></th>\n",
       "      <th>City</th>\n",
       "      <th>Business Name</th>\n",
       "      <th>Review Text</th>\n",
       "      <th>Stars</th>\n",
       "      <th>TrueTimestamp</th>\n",
       "    </tr>\n",
       "  </thead>\n",
       "  <tbody>\n",
       "    <tr>\n",
       "      <th>46</th>\n",
       "      <td>agadir</td>\n",
       "      <td>Attijariwafa Bank</td>\n",
       "      <td>Beaucoup des clients qui attends outside alors...</td>\n",
       "      <td>2</td>\n",
       "      <td>2022-03-14 21:22:17.360486</td>\n",
       "    </tr>\n",
       "    <tr>\n",
       "      <th>47</th>\n",
       "      <td>agadir</td>\n",
       "      <td>Attijariwafa Bank</td>\n",
       "      <td>Bon service</td>\n",
       "      <td>4</td>\n",
       "      <td>2023-03-14 21:22:17.360486</td>\n",
       "    </tr>\n",
       "    <tr>\n",
       "      <th>48</th>\n",
       "      <td>agadir</td>\n",
       "      <td>Attijariwafa Bank</td>\n",
       "      <td>Service👍🏽👍🏽👍🏽👍🏽👍🏽👍🏽 …</td>\n",
       "      <td>5</td>\n",
       "      <td>2024-12-13 21:22:17.360486</td>\n",
       "    </tr>\n",
       "    <tr>\n",
       "      <th>50</th>\n",
       "      <td>agadir</td>\n",
       "      <td>Attijariwafa Bank</td>\n",
       "      <td>Le service est nul, j'ai pas de compte bancair...</td>\n",
       "      <td>1</td>\n",
       "      <td>2024-10-14 21:22:17.360486</td>\n",
       "    </tr>\n",
       "    <tr>\n",
       "      <th>51</th>\n",
       "      <td>agadir</td>\n",
       "      <td>Attijariwafa Bank</td>\n",
       "      <td>Excellent. Très bonne banque !\\r\\nRemarque les...</td>\n",
       "      <td>5</td>\n",
       "      <td>2024-09-14 21:22:17.360486</td>\n",
       "    </tr>\n",
       "  </tbody>\n",
       "</table>\n",
       "</div>"
      ]
     },
     "execution_count": 59,
     "metadata": {},
     "output_type": "execute_result"
    }
   ],
   "execution_count": 59
  },
  {
   "metadata": {
    "ExecuteTime": {
     "end_time": "2025-03-26T16:24:15.753960Z",
     "start_time": "2025-03-26T16:24:15.741161Z"
    }
   },
   "cell_type": "code",
   "source": "",
   "id": "10372790b9cefec4",
   "outputs": [],
   "execution_count": null
  },
  {
   "metadata": {
    "ExecuteTime": {
     "end_time": "2025-03-26T16:24:16.162619Z",
     "start_time": "2025-03-26T16:24:16.158037Z"
    }
   },
   "cell_type": "code",
   "source": "",
   "id": "4e187262b334289e",
   "outputs": [],
   "execution_count": null
  },
  {
   "metadata": {
    "ExecuteTime": {
     "end_time": "2025-03-26T16:24:16.642134Z",
     "start_time": "2025-03-26T16:24:16.637523Z"
    }
   },
   "cell_type": "code",
   "source": "",
   "id": "69cc85fab7368433",
   "outputs": [],
   "execution_count": null
  },
  {
   "metadata": {},
   "cell_type": "markdown",
   "source": "SAVING TO A NEW CSV\n",
   "id": "e53be2e347998b4d"
  },
  {
   "metadata": {
    "ExecuteTime": {
     "end_time": "2025-03-26T17:41:27.227211Z",
     "start_time": "2025-03-26T17:41:27.145113Z"
    }
   },
   "cell_type": "code",
   "source": "rawdata.to_csv(\"data/updated_dataset.csv\", index=False)",
   "id": "eb6d47c5c03fe567",
   "outputs": [],
   "execution_count": 62
  },
  {
   "metadata": {
    "ExecuteTime": {
     "end_time": "2025-03-26T17:41:27.765436Z",
     "start_time": "2025-03-26T17:41:27.760Z"
    }
   },
   "cell_type": "code",
   "source": "",
   "id": "ae74ab2e9dc5b92d",
   "outputs": [],
   "execution_count": null
  },
  {
   "metadata": {},
   "cell_type": "markdown",
   "source": "SPLITTING THE DATASET INTO 2 : ONE FOR STARS OTHER ONE FOR REVIEWS",
   "id": "6be7a0bb455419d1"
  },
  {
   "metadata": {
    "ExecuteTime": {
     "end_time": "2025-03-26T17:41:30.621999Z",
     "start_time": "2025-03-26T17:41:30.575676Z"
    }
   },
   "cell_type": "code",
   "source": [
    "\n",
    "# Split into two datasets\n",
    "df_star = rawdata[[\"City\", \"Business Name\", \"Stars\", \"TrueTimestamp\"]]  # Star Dataset\n",
    "df_review = rawdata[[\"City\", \"Business Name\", \"Review Text\", \"TrueTimestamp\"]]  # Review Dataset\n",
    "\n",
    "# Save both datasets\n",
    "df_star.to_csv(\"data/star_dataset.csv\", index=False)\n",
    "df_review.to_csv(\"data/review_dataset.csv\", index=False)\n",
    "\n",
    "# Show first few rows for confirmation\n",
    "print(\"Star Dataset:\")\n",
    "print(df_star.head())\n",
    "\n",
    "print(\"\\nReview Dataset:\")\n",
    "print(df_review.head())"
   ],
   "id": "b1a9073c53ad39fa",
   "outputs": [
    {
     "name": "stdout",
     "output_type": "stream",
     "text": [
      "Star Dataset:\n",
      "      City      Business Name  Stars               TrueTimestamp\n",
      "46  agadir  Attijariwafa Bank      2  2022-03-14 21:22:17.360486\n",
      "47  agadir  Attijariwafa Bank      4  2023-03-14 21:22:17.360486\n",
      "48  agadir  Attijariwafa Bank      5  2024-12-13 21:22:17.360486\n",
      "50  agadir  Attijariwafa Bank      1  2024-10-14 21:22:17.360486\n",
      "51  agadir  Attijariwafa Bank      5  2024-09-14 21:22:17.360486\n",
      "\n",
      "Review Dataset:\n",
      "      City      Business Name  \\\n",
      "46  agadir  Attijariwafa Bank   \n",
      "47  agadir  Attijariwafa Bank   \n",
      "48  agadir  Attijariwafa Bank   \n",
      "50  agadir  Attijariwafa Bank   \n",
      "51  agadir  Attijariwafa Bank   \n",
      "\n",
      "                                          Review Text  \\\n",
      "46  Beaucoup des clients qui attends outside alors...   \n",
      "47                                        Bon service   \n",
      "48                              Service👍🏽👍🏽👍🏽👍🏽👍🏽👍🏽 …   \n",
      "50  Le service est nul, j'ai pas de compte bancair...   \n",
      "51  Excellent. Très bonne banque !\\r\\nRemarque les...   \n",
      "\n",
      "                 TrueTimestamp  \n",
      "46  2022-03-14 21:22:17.360486  \n",
      "47  2023-03-14 21:22:17.360486  \n",
      "48  2024-12-13 21:22:17.360486  \n",
      "50  2024-10-14 21:22:17.360486  \n",
      "51  2024-09-14 21:22:17.360486  \n"
     ]
    }
   ],
   "execution_count": 63
  },
  {
   "metadata": {},
   "cell_type": "markdown",
   "source": [
    "1️⃣ Star Dataset → For numerical analysis of ratings.\n",
    "2️⃣ Review Dataset → For NLP & sentiment analysis"
   ],
   "id": "49d2faa9f90d13ad"
  },
  {
   "metadata": {},
   "cell_type": "code",
   "outputs": [],
   "execution_count": null,
   "source": "",
   "id": "66f74b06b8f7a149"
  }
 ],
 "metadata": {
  "kernelspec": {
   "display_name": "Python 3",
   "language": "python",
   "name": "python3"
  },
  "language_info": {
   "codemirror_mode": {
    "name": "ipython",
    "version": 2
   },
   "file_extension": ".py",
   "mimetype": "text/x-python",
   "name": "python",
   "nbconvert_exporter": "python",
   "pygments_lexer": "ipython2",
   "version": "2.7.6"
  }
 },
 "nbformat": 4,
 "nbformat_minor": 5
}
